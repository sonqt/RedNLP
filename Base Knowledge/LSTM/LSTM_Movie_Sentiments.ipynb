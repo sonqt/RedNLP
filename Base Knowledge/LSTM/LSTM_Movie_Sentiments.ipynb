{
  "cells": [
    {
      "cell_type": "markdown",
      "metadata": {
        "id": "JSqT4VKfE31G"
      },
      "source": [
        "# **LSTM - Movie Sentiment Analysis** "
      ]
    },
    {
      "cell_type": "markdown",
      "source": [
        "The goal of this project is to construct a **movie sentiment analysis** model using the **LSTM** architecture. Our dataset is based on **IMDB Reviews** that have already been classified as *positive* and *negative* reviews. The objective is to predict whether a review is positive or negative based on the given reviews and labels. "
      ],
      "metadata": {
        "id": "K4yQ7kg4sv4B"
      }
    },
    {
      "cell_type": "markdown",
      "metadata": {
        "id": "foRdHh7yEpzu"
      },
      "source": [
        "## **0. Settings**"
      ]
    },
    {
      "cell_type": "markdown",
      "source": [
        "Primarily, we set up our environment by connecting to Google Drive for later access to the dataset. Additionally, we import all necessary libraries in handling the data and running our model. "
      ],
      "metadata": {
        "id": "gmVNZQ0HuD2B"
      }
    },
    {
      "cell_type": "code",
      "execution_count": 1,
      "metadata": {
        "colab": {
          "base_uri": "https://localhost:8080/"
        },
        "id": "aqQhtJaEEAhd",
        "outputId": "d5c4408f-0b01-4a64-9736-e287c647d459"
      },
      "outputs": [
        {
          "output_type": "stream",
          "name": "stdout",
          "text": [
            "Mounted at /content/drive\n"
          ]
        }
      ],
      "source": [
        "from google.colab import drive\n",
        "drive.mount('/content/drive')"
      ]
    },
    {
      "cell_type": "code",
      "execution_count": 2,
      "metadata": {
        "id": "7C6Qq1ArEQn8"
      },
      "outputs": [],
      "source": [
        "#import all used library\n",
        "import pandas as pd # read datasets\n",
        "\n",
        "# libraries to load datasets and handle models \n",
        "import torch\n",
        "import numpy as np \n",
        "from collections import Counter\n",
        "from torch.utils.data import TensorDataset, DataLoader\n",
        "import torch.nn as nn\n",
        "\n",
        "# plotting \n",
        "import matplotlib.pyplot as pyplot\n",
        "\n",
        "# math lib \n",
        "import math"
      ]
    },
    {
      "cell_type": "markdown",
      "metadata": {
        "id": "HF4L8g0lKM1Z"
      },
      "source": [
        "## **1. Prepare Data for the Training Model**"
      ]
    },
    {
      "cell_type": "markdown",
      "source": [
        "In this step, we will import the dataset into this notebook and then standardardize the data for later use. "
      ],
      "metadata": {
        "id": "uXFNmHgauuUb"
      }
    },
    {
      "cell_type": "markdown",
      "metadata": {
        "id": "QbgZoI8OP6tp"
      },
      "source": [
        "### **1.1. Import Necessary Data**"
      ]
    },
    {
      "cell_type": "markdown",
      "metadata": {
        "id": "ELXv_t6tRnA8"
      },
      "source": [
        "The **IMDB Review Dataset** is a .csv file consisting of five columns: *No, type, review, label, file*. The column *type* includes two values *train* and *test*. For each review in the column *review*, there is a corresponding label *pos* or *neg* or *unsup* that facilitates our sentiment analyzing process. We will only use data from these two columns *review* and *label* and only data with either a *pos* or a *neg* label. "
      ]
    },
    {
      "cell_type": "code",
      "execution_count": 3,
      "metadata": {
        "id": "3LQ5WZLkEfKs"
      },
      "outputs": [],
      "source": [
        "data = pd.read_csv(\"/content/drive/MyDrive/NLP2022/movie_sentiments/data/imdb_master.csv\", encoding='unicode_escape')"
      ]
    },
    {
      "cell_type": "code",
      "execution_count": 4,
      "metadata": {
        "id": "6mnFaJUUHlft",
        "colab": {
          "base_uri": "https://localhost:8080/",
          "height": 206
        },
        "outputId": "4848f53c-9677-4009-a35c-58f4cf0edaf4"
      },
      "outputs": [
        {
          "output_type": "execute_result",
          "data": {
            "text/html": [
              "\n",
              "  <div id=\"df-ef5ed272-1611-475c-b15b-d252bcfb0600\">\n",
              "    <div class=\"colab-df-container\">\n",
              "      <div>\n",
              "<style scoped>\n",
              "    .dataframe tbody tr th:only-of-type {\n",
              "        vertical-align: middle;\n",
              "    }\n",
              "\n",
              "    .dataframe tbody tr th {\n",
              "        vertical-align: top;\n",
              "    }\n",
              "\n",
              "    .dataframe thead th {\n",
              "        text-align: right;\n",
              "    }\n",
              "</style>\n",
              "<table border=\"1\" class=\"dataframe\">\n",
              "  <thead>\n",
              "    <tr style=\"text-align: right;\">\n",
              "      <th></th>\n",
              "      <th>Unnamed: 0</th>\n",
              "      <th>type</th>\n",
              "      <th>review</th>\n",
              "      <th>label</th>\n",
              "      <th>file</th>\n",
              "    </tr>\n",
              "  </thead>\n",
              "  <tbody>\n",
              "    <tr>\n",
              "      <th>0</th>\n",
              "      <td>0</td>\n",
              "      <td>test</td>\n",
              "      <td>Once again Mr. Costner has dragged out a movie...</td>\n",
              "      <td>neg</td>\n",
              "      <td>0_2.txt</td>\n",
              "    </tr>\n",
              "    <tr>\n",
              "      <th>1</th>\n",
              "      <td>1</td>\n",
              "      <td>test</td>\n",
              "      <td>This is an example of why the majority of acti...</td>\n",
              "      <td>neg</td>\n",
              "      <td>10000_4.txt</td>\n",
              "    </tr>\n",
              "    <tr>\n",
              "      <th>2</th>\n",
              "      <td>2</td>\n",
              "      <td>test</td>\n",
              "      <td>First of all I hate those moronic rappers, who...</td>\n",
              "      <td>neg</td>\n",
              "      <td>10001_1.txt</td>\n",
              "    </tr>\n",
              "    <tr>\n",
              "      <th>3</th>\n",
              "      <td>3</td>\n",
              "      <td>test</td>\n",
              "      <td>Not even the Beatles could write songs everyon...</td>\n",
              "      <td>neg</td>\n",
              "      <td>10002_3.txt</td>\n",
              "    </tr>\n",
              "    <tr>\n",
              "      <th>4</th>\n",
              "      <td>4</td>\n",
              "      <td>test</td>\n",
              "      <td>Brass pictures (movies is not a fitting word f...</td>\n",
              "      <td>neg</td>\n",
              "      <td>10003_3.txt</td>\n",
              "    </tr>\n",
              "  </tbody>\n",
              "</table>\n",
              "</div>\n",
              "      <button class=\"colab-df-convert\" onclick=\"convertToInteractive('df-ef5ed272-1611-475c-b15b-d252bcfb0600')\"\n",
              "              title=\"Convert this dataframe to an interactive table.\"\n",
              "              style=\"display:none;\">\n",
              "        \n",
              "  <svg xmlns=\"http://www.w3.org/2000/svg\" height=\"24px\"viewBox=\"0 0 24 24\"\n",
              "       width=\"24px\">\n",
              "    <path d=\"M0 0h24v24H0V0z\" fill=\"none\"/>\n",
              "    <path d=\"M18.56 5.44l.94 2.06.94-2.06 2.06-.94-2.06-.94-.94-2.06-.94 2.06-2.06.94zm-11 1L8.5 8.5l.94-2.06 2.06-.94-2.06-.94L8.5 2.5l-.94 2.06-2.06.94zm10 10l.94 2.06.94-2.06 2.06-.94-2.06-.94-.94-2.06-.94 2.06-2.06.94z\"/><path d=\"M17.41 7.96l-1.37-1.37c-.4-.4-.92-.59-1.43-.59-.52 0-1.04.2-1.43.59L10.3 9.45l-7.72 7.72c-.78.78-.78 2.05 0 2.83L4 21.41c.39.39.9.59 1.41.59.51 0 1.02-.2 1.41-.59l7.78-7.78 2.81-2.81c.8-.78.8-2.07 0-2.86zM5.41 20L4 18.59l7.72-7.72 1.47 1.35L5.41 20z\"/>\n",
              "  </svg>\n",
              "      </button>\n",
              "      \n",
              "  <style>\n",
              "    .colab-df-container {\n",
              "      display:flex;\n",
              "      flex-wrap:wrap;\n",
              "      gap: 12px;\n",
              "    }\n",
              "\n",
              "    .colab-df-convert {\n",
              "      background-color: #E8F0FE;\n",
              "      border: none;\n",
              "      border-radius: 50%;\n",
              "      cursor: pointer;\n",
              "      display: none;\n",
              "      fill: #1967D2;\n",
              "      height: 32px;\n",
              "      padding: 0 0 0 0;\n",
              "      width: 32px;\n",
              "    }\n",
              "\n",
              "    .colab-df-convert:hover {\n",
              "      background-color: #E2EBFA;\n",
              "      box-shadow: 0px 1px 2px rgba(60, 64, 67, 0.3), 0px 1px 3px 1px rgba(60, 64, 67, 0.15);\n",
              "      fill: #174EA6;\n",
              "    }\n",
              "\n",
              "    [theme=dark] .colab-df-convert {\n",
              "      background-color: #3B4455;\n",
              "      fill: #D2E3FC;\n",
              "    }\n",
              "\n",
              "    [theme=dark] .colab-df-convert:hover {\n",
              "      background-color: #434B5C;\n",
              "      box-shadow: 0px 1px 3px 1px rgba(0, 0, 0, 0.15);\n",
              "      filter: drop-shadow(0px 1px 2px rgba(0, 0, 0, 0.3));\n",
              "      fill: #FFFFFF;\n",
              "    }\n",
              "  </style>\n",
              "\n",
              "      <script>\n",
              "        const buttonEl =\n",
              "          document.querySelector('#df-ef5ed272-1611-475c-b15b-d252bcfb0600 button.colab-df-convert');\n",
              "        buttonEl.style.display =\n",
              "          google.colab.kernel.accessAllowed ? 'block' : 'none';\n",
              "\n",
              "        async function convertToInteractive(key) {\n",
              "          const element = document.querySelector('#df-ef5ed272-1611-475c-b15b-d252bcfb0600');\n",
              "          const dataTable =\n",
              "            await google.colab.kernel.invokeFunction('convertToInteractive',\n",
              "                                                     [key], {});\n",
              "          if (!dataTable) return;\n",
              "\n",
              "          const docLinkHtml = 'Like what you see? Visit the ' +\n",
              "            '<a target=\"_blank\" href=https://colab.research.google.com/notebooks/data_table.ipynb>data table notebook</a>'\n",
              "            + ' to learn more about interactive tables.';\n",
              "          element.innerHTML = '';\n",
              "          dataTable['output_type'] = 'display_data';\n",
              "          await google.colab.output.renderOutput(dataTable, element);\n",
              "          const docLink = document.createElement('div');\n",
              "          docLink.innerHTML = docLinkHtml;\n",
              "          element.appendChild(docLink);\n",
              "        }\n",
              "      </script>\n",
              "    </div>\n",
              "  </div>\n",
              "  "
            ],
            "text/plain": [
              "   Unnamed: 0  type  ... label         file\n",
              "0           0  test  ...   neg      0_2.txt\n",
              "1           1  test  ...   neg  10000_4.txt\n",
              "2           2  test  ...   neg  10001_1.txt\n",
              "3           3  test  ...   neg  10002_3.txt\n",
              "4           4  test  ...   neg  10003_3.txt\n",
              "\n",
              "[5 rows x 5 columns]"
            ]
          },
          "metadata": {},
          "execution_count": 4
        }
      ],
      "source": [
        "data.head()"
      ]
    },
    {
      "cell_type": "code",
      "execution_count": 5,
      "metadata": {
        "id": "fbIpNBZhIde3",
        "colab": {
          "base_uri": "https://localhost:8080/",
          "height": 206
        },
        "outputId": "40cb31db-4d7e-453b-f68a-dab3fdf1503d"
      },
      "outputs": [
        {
          "output_type": "execute_result",
          "data": {
            "text/html": [
              "\n",
              "  <div id=\"df-4d7a9df0-d523-4030-abc7-ef330dadc0aa\">\n",
              "    <div class=\"colab-df-container\">\n",
              "      <div>\n",
              "<style scoped>\n",
              "    .dataframe tbody tr th:only-of-type {\n",
              "        vertical-align: middle;\n",
              "    }\n",
              "\n",
              "    .dataframe tbody tr th {\n",
              "        vertical-align: top;\n",
              "    }\n",
              "\n",
              "    .dataframe thead th {\n",
              "        text-align: right;\n",
              "    }\n",
              "</style>\n",
              "<table border=\"1\" class=\"dataframe\">\n",
              "  <thead>\n",
              "    <tr style=\"text-align: right;\">\n",
              "      <th></th>\n",
              "      <th>Unnamed: 0</th>\n",
              "      <th>type</th>\n",
              "      <th>review</th>\n",
              "      <th>label</th>\n",
              "      <th>file</th>\n",
              "    </tr>\n",
              "  </thead>\n",
              "  <tbody>\n",
              "    <tr>\n",
              "      <th>99995</th>\n",
              "      <td>99995</td>\n",
              "      <td>train</td>\n",
              "      <td>Delightfully awful! Made by David Giancola, a ...</td>\n",
              "      <td>unsup</td>\n",
              "      <td>9998_0.txt</td>\n",
              "    </tr>\n",
              "    <tr>\n",
              "      <th>99996</th>\n",
              "      <td>99996</td>\n",
              "      <td>train</td>\n",
              "      <td>Watching Time Chasers, it obvious that it was ...</td>\n",
              "      <td>unsup</td>\n",
              "      <td>9999_0.txt</td>\n",
              "    </tr>\n",
              "    <tr>\n",
              "      <th>99997</th>\n",
              "      <td>99997</td>\n",
              "      <td>train</td>\n",
              "      <td>At the beginning we can see members of Troma t...</td>\n",
              "      <td>unsup</td>\n",
              "      <td>999_0.txt</td>\n",
              "    </tr>\n",
              "    <tr>\n",
              "      <th>99998</th>\n",
              "      <td>99998</td>\n",
              "      <td>train</td>\n",
              "      <td>The movie was incredible, ever since I saw it ...</td>\n",
              "      <td>unsup</td>\n",
              "      <td>99_0.txt</td>\n",
              "    </tr>\n",
              "    <tr>\n",
              "      <th>99999</th>\n",
              "      <td>99999</td>\n",
              "      <td>train</td>\n",
              "      <td>TCM came through by acquiring this wonderful, ...</td>\n",
              "      <td>unsup</td>\n",
              "      <td>9_0.txt</td>\n",
              "    </tr>\n",
              "  </tbody>\n",
              "</table>\n",
              "</div>\n",
              "      <button class=\"colab-df-convert\" onclick=\"convertToInteractive('df-4d7a9df0-d523-4030-abc7-ef330dadc0aa')\"\n",
              "              title=\"Convert this dataframe to an interactive table.\"\n",
              "              style=\"display:none;\">\n",
              "        \n",
              "  <svg xmlns=\"http://www.w3.org/2000/svg\" height=\"24px\"viewBox=\"0 0 24 24\"\n",
              "       width=\"24px\">\n",
              "    <path d=\"M0 0h24v24H0V0z\" fill=\"none\"/>\n",
              "    <path d=\"M18.56 5.44l.94 2.06.94-2.06 2.06-.94-2.06-.94-.94-2.06-.94 2.06-2.06.94zm-11 1L8.5 8.5l.94-2.06 2.06-.94-2.06-.94L8.5 2.5l-.94 2.06-2.06.94zm10 10l.94 2.06.94-2.06 2.06-.94-2.06-.94-.94-2.06-.94 2.06-2.06.94z\"/><path d=\"M17.41 7.96l-1.37-1.37c-.4-.4-.92-.59-1.43-.59-.52 0-1.04.2-1.43.59L10.3 9.45l-7.72 7.72c-.78.78-.78 2.05 0 2.83L4 21.41c.39.39.9.59 1.41.59.51 0 1.02-.2 1.41-.59l7.78-7.78 2.81-2.81c.8-.78.8-2.07 0-2.86zM5.41 20L4 18.59l7.72-7.72 1.47 1.35L5.41 20z\"/>\n",
              "  </svg>\n",
              "      </button>\n",
              "      \n",
              "  <style>\n",
              "    .colab-df-container {\n",
              "      display:flex;\n",
              "      flex-wrap:wrap;\n",
              "      gap: 12px;\n",
              "    }\n",
              "\n",
              "    .colab-df-convert {\n",
              "      background-color: #E8F0FE;\n",
              "      border: none;\n",
              "      border-radius: 50%;\n",
              "      cursor: pointer;\n",
              "      display: none;\n",
              "      fill: #1967D2;\n",
              "      height: 32px;\n",
              "      padding: 0 0 0 0;\n",
              "      width: 32px;\n",
              "    }\n",
              "\n",
              "    .colab-df-convert:hover {\n",
              "      background-color: #E2EBFA;\n",
              "      box-shadow: 0px 1px 2px rgba(60, 64, 67, 0.3), 0px 1px 3px 1px rgba(60, 64, 67, 0.15);\n",
              "      fill: #174EA6;\n",
              "    }\n",
              "\n",
              "    [theme=dark] .colab-df-convert {\n",
              "      background-color: #3B4455;\n",
              "      fill: #D2E3FC;\n",
              "    }\n",
              "\n",
              "    [theme=dark] .colab-df-convert:hover {\n",
              "      background-color: #434B5C;\n",
              "      box-shadow: 0px 1px 3px 1px rgba(0, 0, 0, 0.15);\n",
              "      filter: drop-shadow(0px 1px 2px rgba(0, 0, 0, 0.3));\n",
              "      fill: #FFFFFF;\n",
              "    }\n",
              "  </style>\n",
              "\n",
              "      <script>\n",
              "        const buttonEl =\n",
              "          document.querySelector('#df-4d7a9df0-d523-4030-abc7-ef330dadc0aa button.colab-df-convert');\n",
              "        buttonEl.style.display =\n",
              "          google.colab.kernel.accessAllowed ? 'block' : 'none';\n",
              "\n",
              "        async function convertToInteractive(key) {\n",
              "          const element = document.querySelector('#df-4d7a9df0-d523-4030-abc7-ef330dadc0aa');\n",
              "          const dataTable =\n",
              "            await google.colab.kernel.invokeFunction('convertToInteractive',\n",
              "                                                     [key], {});\n",
              "          if (!dataTable) return;\n",
              "\n",
              "          const docLinkHtml = 'Like what you see? Visit the ' +\n",
              "            '<a target=\"_blank\" href=https://colab.research.google.com/notebooks/data_table.ipynb>data table notebook</a>'\n",
              "            + ' to learn more about interactive tables.';\n",
              "          element.innerHTML = '';\n",
              "          dataTable['output_type'] = 'display_data';\n",
              "          await google.colab.output.renderOutput(dataTable, element);\n",
              "          const docLink = document.createElement('div');\n",
              "          docLink.innerHTML = docLinkHtml;\n",
              "          element.appendChild(docLink);\n",
              "        }\n",
              "      </script>\n",
              "    </div>\n",
              "  </div>\n",
              "  "
            ],
            "text/plain": [
              "       Unnamed: 0   type  ...  label        file\n",
              "99995       99995  train  ...  unsup  9998_0.txt\n",
              "99996       99996  train  ...  unsup  9999_0.txt\n",
              "99997       99997  train  ...  unsup   999_0.txt\n",
              "99998       99998  train  ...  unsup    99_0.txt\n",
              "99999       99999  train  ...  unsup     9_0.txt\n",
              "\n",
              "[5 rows x 5 columns]"
            ]
          },
          "metadata": {},
          "execution_count": 5
        }
      ],
      "source": [
        "data.tail()"
      ]
    },
    {
      "cell_type": "markdown",
      "source": [
        "Next, we delete redundant columns and only retain columns *'review'* and *'label'*. "
      ],
      "metadata": {
        "id": "NBkceUiPw0Qk"
      }
    },
    {
      "cell_type": "code",
      "source": [
        "data = data.iloc[:, 2:4]  "
      ],
      "metadata": {
        "id": "1LERvJcIwzsB"
      },
      "execution_count": 6,
      "outputs": []
    },
    {
      "cell_type": "markdown",
      "metadata": {
        "id": "To4TU3gHTEsZ"
      },
      "source": [
        "We are interested in the data with predefined labels *pos* and *neg*, and so we will extract only the data with these labels. "
      ]
    },
    {
      "cell_type": "code",
      "execution_count": 7,
      "metadata": {
        "id": "axb3ujGEIuDt"
      },
      "outputs": [],
      "source": [
        "data = data[(data.label == \"pos\") | (data.label == \"neg\")] "
      ]
    },
    {
      "cell_type": "code",
      "execution_count": 8,
      "metadata": {
        "id": "Sz_aeZHnJ1Ay",
        "colab": {
          "base_uri": "https://localhost:8080/",
          "height": 206
        },
        "outputId": "5e2bf2b3-319c-4aa4-eb47-e94f59e669f5"
      },
      "outputs": [
        {
          "output_type": "execute_result",
          "data": {
            "text/html": [
              "\n",
              "  <div id=\"df-039d8dd5-04b2-4798-aeb4-ca30e08aa4d0\">\n",
              "    <div class=\"colab-df-container\">\n",
              "      <div>\n",
              "<style scoped>\n",
              "    .dataframe tbody tr th:only-of-type {\n",
              "        vertical-align: middle;\n",
              "    }\n",
              "\n",
              "    .dataframe tbody tr th {\n",
              "        vertical-align: top;\n",
              "    }\n",
              "\n",
              "    .dataframe thead th {\n",
              "        text-align: right;\n",
              "    }\n",
              "</style>\n",
              "<table border=\"1\" class=\"dataframe\">\n",
              "  <thead>\n",
              "    <tr style=\"text-align: right;\">\n",
              "      <th></th>\n",
              "      <th>review</th>\n",
              "      <th>label</th>\n",
              "    </tr>\n",
              "  </thead>\n",
              "  <tbody>\n",
              "    <tr>\n",
              "      <th>0</th>\n",
              "      <td>Once again Mr. Costner has dragged out a movie...</td>\n",
              "      <td>neg</td>\n",
              "    </tr>\n",
              "    <tr>\n",
              "      <th>1</th>\n",
              "      <td>This is an example of why the majority of acti...</td>\n",
              "      <td>neg</td>\n",
              "    </tr>\n",
              "    <tr>\n",
              "      <th>2</th>\n",
              "      <td>First of all I hate those moronic rappers, who...</td>\n",
              "      <td>neg</td>\n",
              "    </tr>\n",
              "    <tr>\n",
              "      <th>3</th>\n",
              "      <td>Not even the Beatles could write songs everyon...</td>\n",
              "      <td>neg</td>\n",
              "    </tr>\n",
              "    <tr>\n",
              "      <th>4</th>\n",
              "      <td>Brass pictures (movies is not a fitting word f...</td>\n",
              "      <td>neg</td>\n",
              "    </tr>\n",
              "  </tbody>\n",
              "</table>\n",
              "</div>\n",
              "      <button class=\"colab-df-convert\" onclick=\"convertToInteractive('df-039d8dd5-04b2-4798-aeb4-ca30e08aa4d0')\"\n",
              "              title=\"Convert this dataframe to an interactive table.\"\n",
              "              style=\"display:none;\">\n",
              "        \n",
              "  <svg xmlns=\"http://www.w3.org/2000/svg\" height=\"24px\"viewBox=\"0 0 24 24\"\n",
              "       width=\"24px\">\n",
              "    <path d=\"M0 0h24v24H0V0z\" fill=\"none\"/>\n",
              "    <path d=\"M18.56 5.44l.94 2.06.94-2.06 2.06-.94-2.06-.94-.94-2.06-.94 2.06-2.06.94zm-11 1L8.5 8.5l.94-2.06 2.06-.94-2.06-.94L8.5 2.5l-.94 2.06-2.06.94zm10 10l.94 2.06.94-2.06 2.06-.94-2.06-.94-.94-2.06-.94 2.06-2.06.94z\"/><path d=\"M17.41 7.96l-1.37-1.37c-.4-.4-.92-.59-1.43-.59-.52 0-1.04.2-1.43.59L10.3 9.45l-7.72 7.72c-.78.78-.78 2.05 0 2.83L4 21.41c.39.39.9.59 1.41.59.51 0 1.02-.2 1.41-.59l7.78-7.78 2.81-2.81c.8-.78.8-2.07 0-2.86zM5.41 20L4 18.59l7.72-7.72 1.47 1.35L5.41 20z\"/>\n",
              "  </svg>\n",
              "      </button>\n",
              "      \n",
              "  <style>\n",
              "    .colab-df-container {\n",
              "      display:flex;\n",
              "      flex-wrap:wrap;\n",
              "      gap: 12px;\n",
              "    }\n",
              "\n",
              "    .colab-df-convert {\n",
              "      background-color: #E8F0FE;\n",
              "      border: none;\n",
              "      border-radius: 50%;\n",
              "      cursor: pointer;\n",
              "      display: none;\n",
              "      fill: #1967D2;\n",
              "      height: 32px;\n",
              "      padding: 0 0 0 0;\n",
              "      width: 32px;\n",
              "    }\n",
              "\n",
              "    .colab-df-convert:hover {\n",
              "      background-color: #E2EBFA;\n",
              "      box-shadow: 0px 1px 2px rgba(60, 64, 67, 0.3), 0px 1px 3px 1px rgba(60, 64, 67, 0.15);\n",
              "      fill: #174EA6;\n",
              "    }\n",
              "\n",
              "    [theme=dark] .colab-df-convert {\n",
              "      background-color: #3B4455;\n",
              "      fill: #D2E3FC;\n",
              "    }\n",
              "\n",
              "    [theme=dark] .colab-df-convert:hover {\n",
              "      background-color: #434B5C;\n",
              "      box-shadow: 0px 1px 3px 1px rgba(0, 0, 0, 0.15);\n",
              "      filter: drop-shadow(0px 1px 2px rgba(0, 0, 0, 0.3));\n",
              "      fill: #FFFFFF;\n",
              "    }\n",
              "  </style>\n",
              "\n",
              "      <script>\n",
              "        const buttonEl =\n",
              "          document.querySelector('#df-039d8dd5-04b2-4798-aeb4-ca30e08aa4d0 button.colab-df-convert');\n",
              "        buttonEl.style.display =\n",
              "          google.colab.kernel.accessAllowed ? 'block' : 'none';\n",
              "\n",
              "        async function convertToInteractive(key) {\n",
              "          const element = document.querySelector('#df-039d8dd5-04b2-4798-aeb4-ca30e08aa4d0');\n",
              "          const dataTable =\n",
              "            await google.colab.kernel.invokeFunction('convertToInteractive',\n",
              "                                                     [key], {});\n",
              "          if (!dataTable) return;\n",
              "\n",
              "          const docLinkHtml = 'Like what you see? Visit the ' +\n",
              "            '<a target=\"_blank\" href=https://colab.research.google.com/notebooks/data_table.ipynb>data table notebook</a>'\n",
              "            + ' to learn more about interactive tables.';\n",
              "          element.innerHTML = '';\n",
              "          dataTable['output_type'] = 'display_data';\n",
              "          await google.colab.output.renderOutput(dataTable, element);\n",
              "          const docLink = document.createElement('div');\n",
              "          docLink.innerHTML = docLinkHtml;\n",
              "          element.appendChild(docLink);\n",
              "        }\n",
              "      </script>\n",
              "    </div>\n",
              "  </div>\n",
              "  "
            ],
            "text/plain": [
              "                                              review label\n",
              "0  Once again Mr. Costner has dragged out a movie...   neg\n",
              "1  This is an example of why the majority of acti...   neg\n",
              "2  First of all I hate those moronic rappers, who...   neg\n",
              "3  Not even the Beatles could write songs everyon...   neg\n",
              "4  Brass pictures (movies is not a fitting word f...   neg"
            ]
          },
          "metadata": {},
          "execution_count": 8
        }
      ],
      "source": [
        "data.head()"
      ]
    },
    {
      "cell_type": "markdown",
      "metadata": {
        "id": "QRJvwXRnP0hW"
      },
      "source": [
        "### **1.2. Shuffle Data**"
      ]
    },
    {
      "cell_type": "markdown",
      "source": [
        "Since the dataset is currently arranged in an alphabetical order, it is important to shuffle the dataset so as to avoid any pattern that can affect the learning process. This is a basic rule in training deep learning model.\n",
        "\n",
        "Particularly, if we divide the dataset into training set and validating set: about 1000 last words will be assigned into validating set. This could cause an unexpected scenario: the developed model could perform significantly bad on words beginning with 'y' or 'z' because it has never been trained to predict words like that.\n",
        "\n",
        "We will use pandas .sample() method to shuflle the data and then reset the index so that the data does not have any information about its previous order. "
      ],
      "metadata": {
        "id": "DtAV6QgNS2OM"
      }
    },
    {
      "cell_type": "code",
      "execution_count": 9,
      "metadata": {
        "id": "L-EFT5lrLl9n"
      },
      "outputs": [],
      "source": [
        "data = data.sample(frac = 1)        "
      ]
    },
    {
      "cell_type": "code",
      "source": [
        "data.head() # needs resetting indices"
      ],
      "metadata": {
        "id": "-ofwooqIxo8c",
        "outputId": "a5d3c8f7-1fc6-4f85-9ebc-ed8a2d183aa6",
        "colab": {
          "base_uri": "https://localhost:8080/",
          "height": 206
        }
      },
      "execution_count": 11,
      "outputs": [
        {
          "output_type": "execute_result",
          "data": {
            "text/html": [
              "\n",
              "  <div id=\"df-581d2437-5d46-4ea6-9f04-aa93aff3f97e\">\n",
              "    <div class=\"colab-df-container\">\n",
              "      <div>\n",
              "<style scoped>\n",
              "    .dataframe tbody tr th:only-of-type {\n",
              "        vertical-align: middle;\n",
              "    }\n",
              "\n",
              "    .dataframe tbody tr th {\n",
              "        vertical-align: top;\n",
              "    }\n",
              "\n",
              "    .dataframe thead th {\n",
              "        text-align: right;\n",
              "    }\n",
              "</style>\n",
              "<table border=\"1\" class=\"dataframe\">\n",
              "  <thead>\n",
              "    <tr style=\"text-align: right;\">\n",
              "      <th></th>\n",
              "      <th>review</th>\n",
              "      <th>label</th>\n",
              "    </tr>\n",
              "  </thead>\n",
              "  <tbody>\n",
              "    <tr>\n",
              "      <th>8604</th>\n",
              "      <td>This movie suffers from the fact that for year...</td>\n",
              "      <td>neg</td>\n",
              "    </tr>\n",
              "    <tr>\n",
              "      <th>48118</th>\n",
              "      <td>Tressa's vocal performance was Outstanding!! T...</td>\n",
              "      <td>pos</td>\n",
              "    </tr>\n",
              "    <tr>\n",
              "      <th>831</th>\n",
              "      <td>I disagree 100% with the reviewer who disagree...</td>\n",
              "      <td>neg</td>\n",
              "    </tr>\n",
              "    <tr>\n",
              "      <th>39280</th>\n",
              "      <td>Now I had the pleasure of first viewing Contam...</td>\n",
              "      <td>pos</td>\n",
              "    </tr>\n",
              "    <tr>\n",
              "      <th>4658</th>\n",
              "      <td>at first i thought it was bad because i had gr...</td>\n",
              "      <td>neg</td>\n",
              "    </tr>\n",
              "  </tbody>\n",
              "</table>\n",
              "</div>\n",
              "      <button class=\"colab-df-convert\" onclick=\"convertToInteractive('df-581d2437-5d46-4ea6-9f04-aa93aff3f97e')\"\n",
              "              title=\"Convert this dataframe to an interactive table.\"\n",
              "              style=\"display:none;\">\n",
              "        \n",
              "  <svg xmlns=\"http://www.w3.org/2000/svg\" height=\"24px\"viewBox=\"0 0 24 24\"\n",
              "       width=\"24px\">\n",
              "    <path d=\"M0 0h24v24H0V0z\" fill=\"none\"/>\n",
              "    <path d=\"M18.56 5.44l.94 2.06.94-2.06 2.06-.94-2.06-.94-.94-2.06-.94 2.06-2.06.94zm-11 1L8.5 8.5l.94-2.06 2.06-.94-2.06-.94L8.5 2.5l-.94 2.06-2.06.94zm10 10l.94 2.06.94-2.06 2.06-.94-2.06-.94-.94-2.06-.94 2.06-2.06.94z\"/><path d=\"M17.41 7.96l-1.37-1.37c-.4-.4-.92-.59-1.43-.59-.52 0-1.04.2-1.43.59L10.3 9.45l-7.72 7.72c-.78.78-.78 2.05 0 2.83L4 21.41c.39.39.9.59 1.41.59.51 0 1.02-.2 1.41-.59l7.78-7.78 2.81-2.81c.8-.78.8-2.07 0-2.86zM5.41 20L4 18.59l7.72-7.72 1.47 1.35L5.41 20z\"/>\n",
              "  </svg>\n",
              "      </button>\n",
              "      \n",
              "  <style>\n",
              "    .colab-df-container {\n",
              "      display:flex;\n",
              "      flex-wrap:wrap;\n",
              "      gap: 12px;\n",
              "    }\n",
              "\n",
              "    .colab-df-convert {\n",
              "      background-color: #E8F0FE;\n",
              "      border: none;\n",
              "      border-radius: 50%;\n",
              "      cursor: pointer;\n",
              "      display: none;\n",
              "      fill: #1967D2;\n",
              "      height: 32px;\n",
              "      padding: 0 0 0 0;\n",
              "      width: 32px;\n",
              "    }\n",
              "\n",
              "    .colab-df-convert:hover {\n",
              "      background-color: #E2EBFA;\n",
              "      box-shadow: 0px 1px 2px rgba(60, 64, 67, 0.3), 0px 1px 3px 1px rgba(60, 64, 67, 0.15);\n",
              "      fill: #174EA6;\n",
              "    }\n",
              "\n",
              "    [theme=dark] .colab-df-convert {\n",
              "      background-color: #3B4455;\n",
              "      fill: #D2E3FC;\n",
              "    }\n",
              "\n",
              "    [theme=dark] .colab-df-convert:hover {\n",
              "      background-color: #434B5C;\n",
              "      box-shadow: 0px 1px 3px 1px rgba(0, 0, 0, 0.15);\n",
              "      filter: drop-shadow(0px 1px 2px rgba(0, 0, 0, 0.3));\n",
              "      fill: #FFFFFF;\n",
              "    }\n",
              "  </style>\n",
              "\n",
              "      <script>\n",
              "        const buttonEl =\n",
              "          document.querySelector('#df-581d2437-5d46-4ea6-9f04-aa93aff3f97e button.colab-df-convert');\n",
              "        buttonEl.style.display =\n",
              "          google.colab.kernel.accessAllowed ? 'block' : 'none';\n",
              "\n",
              "        async function convertToInteractive(key) {\n",
              "          const element = document.querySelector('#df-581d2437-5d46-4ea6-9f04-aa93aff3f97e');\n",
              "          const dataTable =\n",
              "            await google.colab.kernel.invokeFunction('convertToInteractive',\n",
              "                                                     [key], {});\n",
              "          if (!dataTable) return;\n",
              "\n",
              "          const docLinkHtml = 'Like what you see? Visit the ' +\n",
              "            '<a target=\"_blank\" href=https://colab.research.google.com/notebooks/data_table.ipynb>data table notebook</a>'\n",
              "            + ' to learn more about interactive tables.';\n",
              "          element.innerHTML = '';\n",
              "          dataTable['output_type'] = 'display_data';\n",
              "          await google.colab.output.renderOutput(dataTable, element);\n",
              "          const docLink = document.createElement('div');\n",
              "          docLink.innerHTML = docLinkHtml;\n",
              "          element.appendChild(docLink);\n",
              "        }\n",
              "      </script>\n",
              "    </div>\n",
              "  </div>\n",
              "  "
            ],
            "text/plain": [
              "                                                  review label\n",
              "8604   This movie suffers from the fact that for year...   neg\n",
              "48118  Tressa's vocal performance was Outstanding!! T...   pos\n",
              "831    I disagree 100% with the reviewer who disagree...   neg\n",
              "39280  Now I had the pleasure of first viewing Contam...   pos\n",
              "4658   at first i thought it was bad because i had gr...   neg"
            ]
          },
          "metadata": {},
          "execution_count": 11
        }
      ]
    },
    {
      "cell_type": "code",
      "source": [
        "data = data.reset_index(drop=True) "
      ],
      "metadata": {
        "id": "iuwTxWV0xs5L"
      },
      "execution_count": 12,
      "outputs": []
    },
    {
      "cell_type": "code",
      "execution_count": 13,
      "metadata": {
        "id": "5_ujcVQXRhva",
        "colab": {
          "base_uri": "https://localhost:8080/",
          "height": 206
        },
        "outputId": "6d9bcd45-9516-4efd-8ce5-d9f6d0ccfe8a"
      },
      "outputs": [
        {
          "output_type": "execute_result",
          "data": {
            "text/html": [
              "\n",
              "  <div id=\"df-e09ebd4d-34e4-4d7f-8cee-eea990528abb\">\n",
              "    <div class=\"colab-df-container\">\n",
              "      <div>\n",
              "<style scoped>\n",
              "    .dataframe tbody tr th:only-of-type {\n",
              "        vertical-align: middle;\n",
              "    }\n",
              "\n",
              "    .dataframe tbody tr th {\n",
              "        vertical-align: top;\n",
              "    }\n",
              "\n",
              "    .dataframe thead th {\n",
              "        text-align: right;\n",
              "    }\n",
              "</style>\n",
              "<table border=\"1\" class=\"dataframe\">\n",
              "  <thead>\n",
              "    <tr style=\"text-align: right;\">\n",
              "      <th></th>\n",
              "      <th>review</th>\n",
              "      <th>label</th>\n",
              "    </tr>\n",
              "  </thead>\n",
              "  <tbody>\n",
              "    <tr>\n",
              "      <th>0</th>\n",
              "      <td>This movie suffers from the fact that for year...</td>\n",
              "      <td>neg</td>\n",
              "    </tr>\n",
              "    <tr>\n",
              "      <th>1</th>\n",
              "      <td>Tressa's vocal performance was Outstanding!! T...</td>\n",
              "      <td>pos</td>\n",
              "    </tr>\n",
              "    <tr>\n",
              "      <th>2</th>\n",
              "      <td>I disagree 100% with the reviewer who disagree...</td>\n",
              "      <td>neg</td>\n",
              "    </tr>\n",
              "    <tr>\n",
              "      <th>3</th>\n",
              "      <td>Now I had the pleasure of first viewing Contam...</td>\n",
              "      <td>pos</td>\n",
              "    </tr>\n",
              "    <tr>\n",
              "      <th>4</th>\n",
              "      <td>at first i thought it was bad because i had gr...</td>\n",
              "      <td>neg</td>\n",
              "    </tr>\n",
              "  </tbody>\n",
              "</table>\n",
              "</div>\n",
              "      <button class=\"colab-df-convert\" onclick=\"convertToInteractive('df-e09ebd4d-34e4-4d7f-8cee-eea990528abb')\"\n",
              "              title=\"Convert this dataframe to an interactive table.\"\n",
              "              style=\"display:none;\">\n",
              "        \n",
              "  <svg xmlns=\"http://www.w3.org/2000/svg\" height=\"24px\"viewBox=\"0 0 24 24\"\n",
              "       width=\"24px\">\n",
              "    <path d=\"M0 0h24v24H0V0z\" fill=\"none\"/>\n",
              "    <path d=\"M18.56 5.44l.94 2.06.94-2.06 2.06-.94-2.06-.94-.94-2.06-.94 2.06-2.06.94zm-11 1L8.5 8.5l.94-2.06 2.06-.94-2.06-.94L8.5 2.5l-.94 2.06-2.06.94zm10 10l.94 2.06.94-2.06 2.06-.94-2.06-.94-.94-2.06-.94 2.06-2.06.94z\"/><path d=\"M17.41 7.96l-1.37-1.37c-.4-.4-.92-.59-1.43-.59-.52 0-1.04.2-1.43.59L10.3 9.45l-7.72 7.72c-.78.78-.78 2.05 0 2.83L4 21.41c.39.39.9.59 1.41.59.51 0 1.02-.2 1.41-.59l7.78-7.78 2.81-2.81c.8-.78.8-2.07 0-2.86zM5.41 20L4 18.59l7.72-7.72 1.47 1.35L5.41 20z\"/>\n",
              "  </svg>\n",
              "      </button>\n",
              "      \n",
              "  <style>\n",
              "    .colab-df-container {\n",
              "      display:flex;\n",
              "      flex-wrap:wrap;\n",
              "      gap: 12px;\n",
              "    }\n",
              "\n",
              "    .colab-df-convert {\n",
              "      background-color: #E8F0FE;\n",
              "      border: none;\n",
              "      border-radius: 50%;\n",
              "      cursor: pointer;\n",
              "      display: none;\n",
              "      fill: #1967D2;\n",
              "      height: 32px;\n",
              "      padding: 0 0 0 0;\n",
              "      width: 32px;\n",
              "    }\n",
              "\n",
              "    .colab-df-convert:hover {\n",
              "      background-color: #E2EBFA;\n",
              "      box-shadow: 0px 1px 2px rgba(60, 64, 67, 0.3), 0px 1px 3px 1px rgba(60, 64, 67, 0.15);\n",
              "      fill: #174EA6;\n",
              "    }\n",
              "\n",
              "    [theme=dark] .colab-df-convert {\n",
              "      background-color: #3B4455;\n",
              "      fill: #D2E3FC;\n",
              "    }\n",
              "\n",
              "    [theme=dark] .colab-df-convert:hover {\n",
              "      background-color: #434B5C;\n",
              "      box-shadow: 0px 1px 3px 1px rgba(0, 0, 0, 0.15);\n",
              "      filter: drop-shadow(0px 1px 2px rgba(0, 0, 0, 0.3));\n",
              "      fill: #FFFFFF;\n",
              "    }\n",
              "  </style>\n",
              "\n",
              "      <script>\n",
              "        const buttonEl =\n",
              "          document.querySelector('#df-e09ebd4d-34e4-4d7f-8cee-eea990528abb button.colab-df-convert');\n",
              "        buttonEl.style.display =\n",
              "          google.colab.kernel.accessAllowed ? 'block' : 'none';\n",
              "\n",
              "        async function convertToInteractive(key) {\n",
              "          const element = document.querySelector('#df-e09ebd4d-34e4-4d7f-8cee-eea990528abb');\n",
              "          const dataTable =\n",
              "            await google.colab.kernel.invokeFunction('convertToInteractive',\n",
              "                                                     [key], {});\n",
              "          if (!dataTable) return;\n",
              "\n",
              "          const docLinkHtml = 'Like what you see? Visit the ' +\n",
              "            '<a target=\"_blank\" href=https://colab.research.google.com/notebooks/data_table.ipynb>data table notebook</a>'\n",
              "            + ' to learn more about interactive tables.';\n",
              "          element.innerHTML = '';\n",
              "          dataTable['output_type'] = 'display_data';\n",
              "          await google.colab.output.renderOutput(dataTable, element);\n",
              "          const docLink = document.createElement('div');\n",
              "          docLink.innerHTML = docLinkHtml;\n",
              "          element.appendChild(docLink);\n",
              "        }\n",
              "      </script>\n",
              "    </div>\n",
              "  </div>\n",
              "  "
            ],
            "text/plain": [
              "                                              review label\n",
              "0  This movie suffers from the fact that for year...   neg\n",
              "1  Tressa's vocal performance was Outstanding!! T...   pos\n",
              "2  I disagree 100% with the reviewer who disagree...   neg\n",
              "3  Now I had the pleasure of first viewing Contam...   pos\n",
              "4  at first i thought it was bad because i had gr...   neg"
            ]
          },
          "metadata": {},
          "execution_count": 13
        }
      ],
      "source": [
        "data.head()"
      ]
    },
    {
      "cell_type": "markdown",
      "metadata": {
        "id": "OKIp-zsDkVBv"
      },
      "source": [
        "### **1.3. Standardize Data**"
      ]
    },
    {
      "cell_type": "markdown",
      "metadata": {
        "id": "4MWrv6d7k06c"
      },
      "source": [
        "The data in the *review* column consists of both uppercase and lowercase words together with punctuations and redundant html break signs. Thus, this step transforms all words into lowercase ones and then removes all unnecessary punctuations and break signs."
      ]
    },
    {
      "cell_type": "code",
      "execution_count": 14,
      "metadata": {
        "id": "vYN4bLKKnrSz"
      },
      "outputs": [],
      "source": [
        "def standardizeData(input_column):\n",
        "    punctuations = ['\"', '!', '#', '$', '&', '\\'' , '(', ')', '*', '+', ',', '-', '.', '/', ':', ';', '<', '=', '>', '?', '@', '\\\\', '^', '_', '`', '{', '|', '}', '~' ]\n",
        "    \n",
        "    standardized_column = []\n",
        "    \n",
        "    for row in input_column: \n",
        "        row = row.lower()   # lowercase transformation \n",
        "        row = row.replace('<br />', ' ') # replace break signs with spaces\n",
        "        for punc in punctuations: \n",
        "            row = row.replace(punc, ' ') # replace punctuations with spaces\n",
        "        standardized_column.append(row)  \n",
        "    return standardized_column"
      ]
    },
    {
      "cell_type": "code",
      "execution_count": 15,
      "metadata": {
        "id": "L_VAvQ5cJfJ9"
      },
      "outputs": [],
      "source": [
        "data.review = standardizeData(data.review)"
      ]
    },
    {
      "cell_type": "markdown",
      "source": [
        "We also want to convert *label*  into a numpy array of ints. "
      ],
      "metadata": {
        "id": "d_AEoc4i3Jwe"
      }
    },
    {
      "cell_type": "code",
      "source": [
        "labels_to_numbers = [1 if label == \"pos\" else 0 for label in list_of_labels]\n",
        "labels = np.array(labels_to_numbers)\n",
        "data['label'] = labels"
      ],
      "metadata": {
        "id": "oyiIRCkI3JPE"
      },
      "execution_count": 33,
      "outputs": []
    },
    {
      "cell_type": "code",
      "execution_count": 34,
      "metadata": {
        "id": "yEh9WkksKBZI",
        "colab": {
          "base_uri": "https://localhost:8080/",
          "height": 206
        },
        "outputId": "13bab93e-c16e-4b44-d0b9-47c06de6b5de"
      },
      "outputs": [
        {
          "output_type": "execute_result",
          "data": {
            "text/html": [
              "\n",
              "  <div id=\"df-aa6bd6fc-6b32-42a4-a3ce-80f5c8121073\">\n",
              "    <div class=\"colab-df-container\">\n",
              "      <div>\n",
              "<style scoped>\n",
              "    .dataframe tbody tr th:only-of-type {\n",
              "        vertical-align: middle;\n",
              "    }\n",
              "\n",
              "    .dataframe tbody tr th {\n",
              "        vertical-align: top;\n",
              "    }\n",
              "\n",
              "    .dataframe thead th {\n",
              "        text-align: right;\n",
              "    }\n",
              "</style>\n",
              "<table border=\"1\" class=\"dataframe\">\n",
              "  <thead>\n",
              "    <tr style=\"text-align: right;\">\n",
              "      <th></th>\n",
              "      <th>review</th>\n",
              "      <th>label</th>\n",
              "    </tr>\n",
              "  </thead>\n",
              "  <tbody>\n",
              "    <tr>\n",
              "      <th>0</th>\n",
              "      <td>this movie suffers from the fact that for year...</td>\n",
              "      <td>0</td>\n",
              "    </tr>\n",
              "    <tr>\n",
              "      <th>1</th>\n",
              "      <td>tressa s vocal performance was outstanding   t...</td>\n",
              "      <td>1</td>\n",
              "    </tr>\n",
              "    <tr>\n",
              "      <th>2</th>\n",
              "      <td>i disagree 100% with the reviewer who disagree...</td>\n",
              "      <td>0</td>\n",
              "    </tr>\n",
              "    <tr>\n",
              "      <th>3</th>\n",
              "      <td>now i had the pleasure of first viewing contam...</td>\n",
              "      <td>1</td>\n",
              "    </tr>\n",
              "    <tr>\n",
              "      <th>4</th>\n",
              "      <td>at first i thought it was bad because i had gr...</td>\n",
              "      <td>0</td>\n",
              "    </tr>\n",
              "  </tbody>\n",
              "</table>\n",
              "</div>\n",
              "      <button class=\"colab-df-convert\" onclick=\"convertToInteractive('df-aa6bd6fc-6b32-42a4-a3ce-80f5c8121073')\"\n",
              "              title=\"Convert this dataframe to an interactive table.\"\n",
              "              style=\"display:none;\">\n",
              "        \n",
              "  <svg xmlns=\"http://www.w3.org/2000/svg\" height=\"24px\"viewBox=\"0 0 24 24\"\n",
              "       width=\"24px\">\n",
              "    <path d=\"M0 0h24v24H0V0z\" fill=\"none\"/>\n",
              "    <path d=\"M18.56 5.44l.94 2.06.94-2.06 2.06-.94-2.06-.94-.94-2.06-.94 2.06-2.06.94zm-11 1L8.5 8.5l.94-2.06 2.06-.94-2.06-.94L8.5 2.5l-.94 2.06-2.06.94zm10 10l.94 2.06.94-2.06 2.06-.94-2.06-.94-.94-2.06-.94 2.06-2.06.94z\"/><path d=\"M17.41 7.96l-1.37-1.37c-.4-.4-.92-.59-1.43-.59-.52 0-1.04.2-1.43.59L10.3 9.45l-7.72 7.72c-.78.78-.78 2.05 0 2.83L4 21.41c.39.39.9.59 1.41.59.51 0 1.02-.2 1.41-.59l7.78-7.78 2.81-2.81c.8-.78.8-2.07 0-2.86zM5.41 20L4 18.59l7.72-7.72 1.47 1.35L5.41 20z\"/>\n",
              "  </svg>\n",
              "      </button>\n",
              "      \n",
              "  <style>\n",
              "    .colab-df-container {\n",
              "      display:flex;\n",
              "      flex-wrap:wrap;\n",
              "      gap: 12px;\n",
              "    }\n",
              "\n",
              "    .colab-df-convert {\n",
              "      background-color: #E8F0FE;\n",
              "      border: none;\n",
              "      border-radius: 50%;\n",
              "      cursor: pointer;\n",
              "      display: none;\n",
              "      fill: #1967D2;\n",
              "      height: 32px;\n",
              "      padding: 0 0 0 0;\n",
              "      width: 32px;\n",
              "    }\n",
              "\n",
              "    .colab-df-convert:hover {\n",
              "      background-color: #E2EBFA;\n",
              "      box-shadow: 0px 1px 2px rgba(60, 64, 67, 0.3), 0px 1px 3px 1px rgba(60, 64, 67, 0.15);\n",
              "      fill: #174EA6;\n",
              "    }\n",
              "\n",
              "    [theme=dark] .colab-df-convert {\n",
              "      background-color: #3B4455;\n",
              "      fill: #D2E3FC;\n",
              "    }\n",
              "\n",
              "    [theme=dark] .colab-df-convert:hover {\n",
              "      background-color: #434B5C;\n",
              "      box-shadow: 0px 1px 3px 1px rgba(0, 0, 0, 0.15);\n",
              "      filter: drop-shadow(0px 1px 2px rgba(0, 0, 0, 0.3));\n",
              "      fill: #FFFFFF;\n",
              "    }\n",
              "  </style>\n",
              "\n",
              "      <script>\n",
              "        const buttonEl =\n",
              "          document.querySelector('#df-aa6bd6fc-6b32-42a4-a3ce-80f5c8121073 button.colab-df-convert');\n",
              "        buttonEl.style.display =\n",
              "          google.colab.kernel.accessAllowed ? 'block' : 'none';\n",
              "\n",
              "        async function convertToInteractive(key) {\n",
              "          const element = document.querySelector('#df-aa6bd6fc-6b32-42a4-a3ce-80f5c8121073');\n",
              "          const dataTable =\n",
              "            await google.colab.kernel.invokeFunction('convertToInteractive',\n",
              "                                                     [key], {});\n",
              "          if (!dataTable) return;\n",
              "\n",
              "          const docLinkHtml = 'Like what you see? Visit the ' +\n",
              "            '<a target=\"_blank\" href=https://colab.research.google.com/notebooks/data_table.ipynb>data table notebook</a>'\n",
              "            + ' to learn more about interactive tables.';\n",
              "          element.innerHTML = '';\n",
              "          dataTable['output_type'] = 'display_data';\n",
              "          await google.colab.output.renderOutput(dataTable, element);\n",
              "          const docLink = document.createElement('div');\n",
              "          docLink.innerHTML = docLinkHtml;\n",
              "          element.appendChild(docLink);\n",
              "        }\n",
              "      </script>\n",
              "    </div>\n",
              "  </div>\n",
              "  "
            ],
            "text/plain": [
              "                                              review  label\n",
              "0  this movie suffers from the fact that for year...      0\n",
              "1  tressa s vocal performance was outstanding   t...      1\n",
              "2  i disagree 100% with the reviewer who disagree...      0\n",
              "3  now i had the pleasure of first viewing contam...      1\n",
              "4  at first i thought it was bad because i had gr...      0"
            ]
          },
          "metadata": {},
          "execution_count": 34
        }
      ],
      "source": [
        "data.head()"
      ]
    },
    {
      "cell_type": "markdown",
      "metadata": {
        "id": "QRUXgvpXmyAy"
      },
      "source": [
        "## **2. Construct Model Inputs**"
      ]
    },
    {
      "cell_type": "markdown",
      "source": [
        "As the data is normalized, we will convert data into model input tensors, starting with building a dictionary of 30,000 most common words to integers and then converting each review into a vector of integers representing words in the review. Since each review is of different size, we will set a standard size to each review and pad/truncate reviews to get the same size. Finally, we partition our dataset into training, validation, and testing set and construct tensor datasets out of these sets. These sets will be the inputs for our model. "
      ],
      "metadata": {
        "id": "CftEQKnVywjJ"
      }
    },
    {
      "cell_type": "markdown",
      "source": [
        "### **2.1 Build a Dictionary of Words to Integers**"
      ],
      "metadata": {
        "id": "IIsYkmqDUwvP"
      }
    },
    {
      "cell_type": "markdown",
      "source": [
        "Firstly, we convert the data into a Python list. "
      ],
      "metadata": {
        "id": "c7m4qgfwTqwR"
      }
    },
    {
      "cell_type": "code",
      "execution_count": 35,
      "metadata": {
        "id": "zNxyA0V-KijO"
      },
      "outputs": [],
      "source": [
        "list_of_reviews = list(data[\"review\"])\n",
        "list_of_labels = list(data[\"label\"])"
      ]
    },
    {
      "cell_type": "markdown",
      "source": [
        "With the list of reviews, we can concatenate the reviews to get a corpus of words. Next, we construct a list of words from all of the reviews and count the frequency of each word using Counter. Counter gives us a mapping of words that appear in the word list to their frequency in the corpus. "
      ],
      "metadata": {
        "id": "M7j78jMzT5B6"
      }
    },
    {
      "cell_type": "code",
      "execution_count": 36,
      "metadata": {
        "id": "3CECWYwFiQX1"
      },
      "outputs": [],
      "source": [
        "corpus = ' '.join(list_of_reviews)\n",
        "\n",
        "words_list = corpus.split()\n",
        "\n",
        "words_freq_dict = Counter(words_list)"
      ]
    },
    {
      "cell_type": "markdown",
      "source": [
        "The corpus is made up of user-written reviews that may contain typos, slangs, etc. Thus, we will focus on the 30,000 most common words (including *OOV* representing out of vocab words) in the word list. The Counter object offers the method *most_common(n)* that returns the *n* most popular words in the dictionary. "
      ],
      "metadata": {
        "id": "moC7_f61UmCn"
      }
    },
    {
      "cell_type": "code",
      "source": [
        "vocab_list = words_freq_dict.most_common(29999)\n",
        "print(vocab_list[:10])\n",
        "print(vocab_list[-10:])"
      ],
      "metadata": {
        "id": "d1mILUKlPK6a",
        "colab": {
          "base_uri": "https://localhost:8080/"
        },
        "outputId": "a6d4b6ec-4fe2-41ff-d799-625fd5d8a1bd"
      },
      "execution_count": 37,
      "outputs": [
        {
          "output_type": "stream",
          "name": "stdout",
          "text": [
            "[('the', 667989), ('and', 324427), ('a', 322969), ('of', 289405), ('to', 268119), ('is', 211082), ('it', 190735), ('in', 186778), ('i', 175534), ('this', 150997)]\n",
            "[('hesitates', 8), ('mech', 8), ('fraternal', 8), ('harald', 8), ('zwart', 8), ('formatted', 8), ('reverses', 8), ('kingdoms', 8), ('twig', 8), ('weenick', 8)]\n"
          ]
        }
      ]
    },
    {
      "cell_type": "markdown",
      "source": [
        "The list of the last 10 words in the *vocab_list* (consisting of 30,000 most common words) shows that words in our vocabulary have to appear at least 8 times. This helps us avoid unfamiliar words or typos. \n",
        "\n",
        "Next, we construct a dictionary that maps each word in our vocab list to an integer. For any word that is not included in our vocab, we assign a 0 representing a *OOV (out of vocab)* word. "
      ],
      "metadata": {
        "id": "jdsbv7KaVMOs"
      }
    },
    {
      "cell_type": "code",
      "execution_count": 38,
      "metadata": {
        "id": "mi-4DNMrItnN"
      },
      "outputs": [],
      "source": [
        "word_to_int = {word_freq_tuple[0]: id for id, word_freq_tuple in enumerate(vocab_list, 1)}\n",
        "word_to_int['OOV'] = 0"
      ]
    },
    {
      "cell_type": "markdown",
      "source": [
        "### **2.2. Convert each review to a list of ints representing words** "
      ],
      "metadata": {
        "id": "Q1CZZw2AU70_"
      }
    },
    {
      "cell_type": "markdown",
      "source": [
        "Now, as we have a dictionary of words to integers for our corpus, we want to construct a LoL of reviews, each inner list of which is a vector of integers representing words in each review. For any word that is not included in our vocab, we assign a 0 representing a OOV (out of vocab) word."
      ],
      "metadata": {
        "id": "dgk8zfIXV49-"
      }
    },
    {
      "cell_type": "code",
      "source": [
        "wordID_vector_by_review = []\n",
        "\n",
        "for review in list_of_reviews:\n",
        "    wordID_vector = [word_to_int[word] if word in word_to_int else 0 for word in review.split()] # list of ints representing words in the review\n",
        "                                                                                                 # id = 0 if word = OOV \n",
        "    wordID_vector_by_review.append(wordID_vector)"
      ],
      "metadata": {
        "id": "WJwOaJ4-QJkh"
      },
      "execution_count": 39,
      "outputs": []
    },
    {
      "cell_type": "code",
      "source": [
        "print(wordID_vector_by_review[:2])"
      ],
      "metadata": {
        "id": "XhcruUpyWD0p",
        "colab": {
          "base_uri": "https://localhost:8080/"
        },
        "outputId": "84087d2f-6d99-4aa6-d859-062a3b475c8c"
      },
      "execution_count": 40,
      "outputs": [
        {
          "output_type": "stream",
          "name": "stdout",
          "text": [
            "[[10, 15, 2464, 37, 1, 193, 11, 16, 154, 348, 67, 56, 2300, 14, 5, 85, 5, 4920, 2252, 2244, 16, 1, 4943, 26, 359, 332, 2858, 2216, 98, 71, 30, 709, 1787, 14757, 3199, 11, 2609, 26, 493, 28241, 2023, 2, 626, 16, 640, 201, 26, 405, 348, 105, 1566, 88, 8, 1, 170, 98, 11, 71, 109, 15593, 16, 5767, 40, 2859, 4257, 39, 6, 164, 44, 2244, 12, 104, 8, 10, 15, 11, 3510, 1, 104, 5, 29, 2081, 553, 16, 26, 109, 1, 324, 8, 26, 2858, 2216, 105, 2244, 6, 112, 753, 17, 1, 98, 109, 28, 6539, 941, 1687, 1698, 703, 100, 159, 18, 1, 13501, 6, 5642, 475, 1677, 12298, 213, 21, 361, 73, 5, 161, 17, 349, 2, 1, 1869, 1208, 200, 1, 106, 239, 6, 52, 3, 936, 4, 1, 226, 2, 462, 72, 85, 1, 106, 150, 191, 22, 297, 196, 27, 76, 127, 8, 432, 98, 1, 118, 148, 44, 1, 15, 6, 1, 2858, 2216, 2960, 1, 248, 175, 6, 1, 3473, 95, 11, 2252, 2244, 271, 122, 36, 15594, 2, 6620, 7, 578, 21, 29, 368, 1, 90, 8, 3667, 9231, 8, 1, 12861, 11, 1, 1203, 60, 418, 834, 43, 85, 5, 94, 3, 49, 2252, 2244, 15], [0, 12, 6317, 240, 13, 1389, 0, 254, 1, 648, 1810, 214, 136, 793, 13, 8, 1, 1362, 51, 54, 86, 1544, 43, 22, 912, 2, 651, 5, 9735, 2, 17699, 42, 516, 7, 90, 58, 1280, 4427, 42, 546, 6, 15912, 54, 752, 5, 94, 3, 4156, 54, 46, 52, 457, 92, 54, 2574, 9, 435, 42, 116, 5383, 240, 8, 1, 698, 485, 3711, 61, 54, 82, 2732, 17, 5936, 51, 54, 13, 1112, 85, 50, 3, 120, 243, 27, 3, 546, 36, 189, 54, 6, 371, 493, 49, 546, 49, 49, 49, 49, 546, 546, 546, 546, 321, 546, 795, 546, 144, 5583, 3348, 2487, 5000, 188, 20, 144, 8, 1, 482, 546, 0, 45, 20, 340, 10, 3496, 591, 188, 58, 1956, 2, 376, 4258, 3, 4156, 45, 23, 41, 16, 1, 110, 4, 1175, 18, 16, 126, 457, 9, 261, 20, 50, 371, 94, 7, 166, 31, 133, 77, 28, 573, 681, 1140, 5431, 3914]]\n"
          ]
        }
      ]
    },
    {
      "cell_type": "markdown",
      "source": [
        "As we can tell from the first two vectors, their sizes are not the same. What about the other reviews in the LoL? We can visualize this using a histogram as below: "
      ],
      "metadata": {
        "id": "AvD1BS_PWm8R"
      }
    },
    {
      "cell_type": "code",
      "source": [
        "import pandas as pd\n",
        "import matplotlib.pyplot as plt\n",
        "\n",
        "review_len = [len(vector) for vector in wordID_vector_by_review]\n",
        "pd.Series(review_len).hist()\n",
        "plt.show()\n",
        "pd.Series(review_len).describe()"
      ],
      "metadata": {
        "id": "F5nvnlIGXN9O",
        "colab": {
          "base_uri": "https://localhost:8080/",
          "height": 421
        },
        "outputId": "85d78c34-5738-4fcd-97ae-268059b67d62"
      },
      "execution_count": 41,
      "outputs": [
        {
          "output_type": "display_data",
          "data": {
            "image/png": "[encoded data removed]",
            "text/plain": [
              "<Figure size 432x288 with 1 Axes>"
            ]
          },
          "metadata": {
            "needs_background": "light"
          }
        },
        {
          "output_type": "execute_result",
          "data": {
            "text/plain": [
              "count    50000.000000\n",
              "mean       235.562980\n",
              "std        174.393214\n",
              "min          6.000000\n",
              "25%        129.000000\n",
              "50%        177.000000\n",
              "75%        286.000000\n",
              "max       2505.000000\n",
              "dtype: float64"
            ]
          },
          "metadata": {},
          "execution_count": 41
        }
      ]
    },
    {
      "cell_type": "markdown",
      "source": [
        "Among 50,000 reviews in the dataset, the mean number of words is around 235, while the min is 6 words and the max is 2505 words in a review. The distribution of number of words in the reviews is greatly skewed right with only a small number of reviews having more than 500 words.  "
      ],
      "metadata": {
        "id": "D9zA1OonW2Ex"
      }
    },
    {
      "cell_type": "markdown",
      "source": [
        "### **2.3. Padding/Truncating Reviews** "
      ],
      "metadata": {
        "id": "JZfo_gHvYDk2"
      }
    },
    {
      "cell_type": "markdown",
      "source": [
        "With such large variations in the length of each review, it is important to have all vectors in the same shape so as to utilize the properties of matrices. One solution for this problem is to pad or truncate the reviews.\n"
      ],
      "metadata": {
        "id": "XqUKefxWYTjt"
      }
    },
    {
      "cell_type": "code",
      "source": [
        "def pad_and_truncate(reviews, desired_length):\n",
        "    features = np.zeros((len(reviews), desired_length), dtype=int)\n",
        "\n",
        "    for id, review in enumerate(reviews):\n",
        "        \n",
        "        review_len = len(review)\n",
        "\n",
        "        if review_len <= desired_length: # fill in 0 if len(review) < desired_length \n",
        "            additional_zero = list(np.zeros(desired_length - review_len))\n",
        "            new_vector = additional_zero + review\n",
        "        \n",
        "        else: # truncate review if len(review) > desired_length \n",
        "            new_vector = review[:desired_length]\n",
        "        \n",
        "        features[id, :] = new_vector\n",
        "\n",
        "    return features"
      ],
      "metadata": {
        "id": "gINaw72BX773"
      },
      "execution_count": 42,
      "outputs": []
    },
    {
      "cell_type": "code",
      "source": [
        "mean_length = 235\n",
        "features = pad_and_truncate(wordID_vector_by_review, mean_length)"
      ],
      "metadata": {
        "id": "WLahCAzAZfTi"
      },
      "execution_count": 43,
      "outputs": []
    },
    {
      "cell_type": "code",
      "source": [
        "features.shape "
      ],
      "metadata": {
        "id": "jYh6c2-EbWJF",
        "colab": {
          "base_uri": "https://localhost:8080/"
        },
        "outputId": "d136d3a2-f2b5-4bcb-edfb-c3742f83869f"
      },
      "execution_count": 44,
      "outputs": [
        {
          "output_type": "execute_result",
          "data": {
            "text/plain": [
              "(50000, 235)"
            ]
          },
          "metadata": {},
          "execution_count": 44
        }
      ]
    },
    {
      "cell_type": "markdown",
      "source": [
        "### **2.4. Partition Data into Training, Validation, and Test Set**"
      ],
      "metadata": {
        "id": "0STVbSn_cD0C"
      }
    },
    {
      "cell_type": "markdown",
      "source": [
        "We select 9/10 of the corpus (45,000 reviews) to be training set, one half of the remaining (1/20 or 2,500 reviews) to be the validation set, and the remaining reviews (2,500 reviews) to be the test set. \n"
      ],
      "metadata": {
        "id": "9CmvvQvRZoZm"
      }
    },
    {
      "cell_type": "code",
      "source": [
        "split_frac = 0.9\n",
        "last_training_index = int(len(features) * split_frac) # last index of the training set\n",
        "\n",
        "# split at last index of the training set\n",
        "train_features, remaining_features = features[:last_training_index], features[last_training_index:] \n",
        "train_labels, remaining_labels = labels[:last_training_index], labels[last_training_index:]"
      ],
      "metadata": {
        "id": "brlGGEBAbrrs"
      },
      "execution_count": 46,
      "outputs": []
    },
    {
      "cell_type": "code",
      "source": [
        "validation_test_frac = 0.5\n",
        "last_validation_index = int(len(remaining_features) * validation_test_frac) # last index of the validation set\n",
        "\n",
        "# split at last index of the validation set\n",
        "val_features, test_features = remaining_features[:last_validation_index], remaining_features[last_validation_index:]\n",
        "val_labels, test_labels = remaining_labels[:last_validation_index], remaining_labels[last_validation_index:]"
      ],
      "metadata": {
        "id": "BQTzIXvE0UwX"
      },
      "execution_count": 47,
      "outputs": []
    },
    {
      "cell_type": "code",
      "source": [
        "## print out the shapes of your resultant feature data\n",
        "print(\"\\t\\t\\tFeature Shapes:\")\n",
        "print(\"Train set: \\t\\t{}\".format(train_features.shape), \n",
        "      \"\\nValidation set: \\t{}\".format(val_features.shape),\n",
        "      \"\\nTest set: \\t\\t{}\".format(test_features.shape))"
      ],
      "metadata": {
        "id": "dp_wdSFG1SFS",
        "colab": {
          "base_uri": "https://localhost:8080/"
        },
        "outputId": "a43fdb50-2874-40cf-f296-775ae8c55ff7"
      },
      "execution_count": 48,
      "outputs": [
        {
          "output_type": "stream",
          "name": "stdout",
          "text": [
            "\t\t\tFeature Shapes:\n",
            "Train set: \t\t(45000, 235) \n",
            "Validation set: \t(2500, 235) \n",
            "Test set: \t\t(2500, 235)\n"
          ]
        }
      ]
    },
    {
      "cell_type": "markdown",
      "source": [
        "### **2.5. Construct Tensor Datasets**"
      ],
      "metadata": {
        "id": "PPZhhhaA1kEf"
      }
    },
    {
      "cell_type": "code",
      "source": [
        "# create Tensor datasets\n",
        "train_data = TensorDataset(torch.from_numpy(train_features), torch.from_numpy(train_labels))\n",
        "valid_data = TensorDataset(torch.from_numpy(val_features), torch.from_numpy(val_labels))\n",
        "test_data = TensorDataset(torch.from_numpy(test_features), torch.from_numpy(test_labels))"
      ],
      "metadata": {
        "id": "N3I6kRYu1Smu"
      },
      "execution_count": 49,
      "outputs": []
    },
    {
      "cell_type": "code",
      "source": [
        "# dataloaders\n",
        "batch_size = 50\n",
        "\n",
        "train_loader = DataLoader(train_data, shuffle=True, batch_size=batch_size, drop_last=True)\n",
        "valid_loader = DataLoader(valid_data, shuffle=True, batch_size=batch_size, drop_last=True)\n",
        "test_loader = DataLoader(test_data, shuffle=True, batch_size=batch_size, drop_last=True)"
      ],
      "metadata": {
        "id": "5nQIr4lg2Gvq"
      },
      "execution_count": 50,
      "outputs": []
    },
    {
      "cell_type": "markdown",
      "source": [
        "## **3. Build Model** "
      ],
      "metadata": {
        "id": "jv0Tzv0_2Nxs"
      }
    },
    {
      "cell_type": "markdown",
      "source": [
        "### **3.0. Check if GPU is Available**"
      ],
      "metadata": {
        "id": "M2swj0ud2gcj"
      }
    },
    {
      "cell_type": "code",
      "source": [
        "train_on_gpu=torch.cuda.is_available()\n",
        "\n",
        "if(train_on_gpu):\n",
        "    print('Training on GPU.')\n",
        "else:\n",
        "    print('No GPU available, training on CPU.')"
      ],
      "metadata": {
        "id": "dt0hUkKH2JXL",
        "colab": {
          "base_uri": "https://localhost:8080/"
        },
        "outputId": "82e00ea7-90e4-4c91-ea4f-b262f4719ea5"
      },
      "execution_count": 51,
      "outputs": [
        {
          "output_type": "stream",
          "name": "stdout",
          "text": [
            "Training on GPU.\n"
          ]
        }
      ]
    },
    {
      "cell_type": "markdown",
      "source": [
        "### **3.1. Construct a LSTM Class**"
      ],
      "metadata": {
        "id": "T_0ZTEfY2ur4"
      }
    },
    {
      "cell_type": "code",
      "source": [
        "class LSTM(nn.Module):\n",
        "\n",
        "\n",
        "    def __init__(self, vocab_size, output_size, embedding_dim, hidden_dim, n_layers):\n",
        "        \"\"\"\n",
        "        Initialize the model by setting up the layers.\n",
        "        \"\"\"\n",
        "        super(LSTM, self).__init__()\n",
        "\n",
        "        self.output_size = output_size\n",
        "        self.n_layers = n_layers\n",
        "        self.hidden_dim = hidden_dim\n",
        "        \n",
        "        # embedding and LSTM layers\n",
        "        self.embedding = nn.Embedding(vocab_size, embedding_dim)\n",
        "        self.lstm = nn.LSTM(embedding_dim, hidden_dim, n_layers, batch_first=True)\n",
        "\n",
        "        # dropout layers\n",
        "        self.dropout = nn.Dropout(0.2)\n",
        "\n",
        "        # linear and sigmoid layers\n",
        "        self.fc = nn.Linear(hidden_dim, 256)\n",
        "        self.sig = nn.Sigmoid()\n",
        "\n",
        "\n",
        "    def forward(self, x, hidden):\n",
        "        \"\"\"\n",
        "        Perform a forward pass of our model on some input and hidden state.\n",
        "        \"\"\"\n",
        "        batch_size = x.size(0)\n",
        "\n",
        "        # embeddings and lstm_out\n",
        "        x = x.long()\n",
        "        embeds = self.embedding(x)\n",
        "        lstm_out, hidden = self.lstm(embeds, hidden)\n",
        "    \n",
        "        # stack up lstm outputs\n",
        "        lstm_out = lstm_out.contiguous().view(-1, self.hidden_dim)\n",
        "        out = self.dropout(lstm_out)\n",
        "        \n",
        "        # dropout and fully-connected layer\n",
        "        out = self.dropout(lstm_out)\n",
        "        out = self.fc(out)\n",
        "        # sigmoid function\n",
        "        sig_out = self.sig(out)\n",
        "        \n",
        "        # reshape to be batch_size first\n",
        "        sig_out = sig_out.view(batch_size, -1)\n",
        "        sig_out = sig_out[:, -1] # get last batch of labels\n",
        "        \n",
        "        return sig_out, hidden\n",
        "    \n",
        "    \n",
        "    def init_hidden(self, batch_size):\n",
        "        ''' Initializes hidden state '''\n",
        "        # Create two new tensors with sizes n_layers x batch_size x hidden_dim,\n",
        "        # initialized to zero, for hidden state and cell state of LSTM\n",
        "        weight = next(self.parameters()).data\n",
        "        \n",
        "        if (train_on_gpu):\n",
        "            hidden = (weight.new(self.n_layers, batch_size, self.hidden_dim).zero_().cuda(),\n",
        "                  weight.new(self.n_layers, batch_size, self.hidden_dim).zero_().cuda())\n",
        "        else:\n",
        "            hidden = (weight.new(self.n_layers, batch_size, self.hidden_dim).zero_(),\n",
        "                      weight.new(self.n_layers, batch_size, self.hidden_dim).zero_())\n",
        "        \n",
        "        return hidden"
      ],
      "metadata": {
        "id": "cSuH8icU2r5W"
      },
      "execution_count": 52,
      "outputs": []
    },
    {
      "cell_type": "markdown",
      "source": [
        "### **3.2. Initialize the Model and its Parameters** "
      ],
      "metadata": {
        "id": "w_Mlt9Hh259l"
      }
    },
    {
      "cell_type": "markdown",
      "source": [
        "Firstly, we will create an instance of the LSTM class, called *sentiment_LSTM*. \n"
      ],
      "metadata": {
        "id": "Etl_jL4r4hl2"
      }
    },
    {
      "cell_type": "code",
      "source": [
        "vocab_size = len(word_to_int) + 1 # +1 for the 0 padding + our word tokens\n",
        "output_size = 1\n",
        "embedding_dim = 100\n",
        "hidden_dim = 256\n",
        "n_layers = 2\n",
        "\n",
        "sentiment_LSTM = LSTM(vocab_size, output_size, embedding_dim, hidden_dim, n_layers)\n",
        "print('LSTM \\n', sentiment_LSTM)"
      ],
      "metadata": {
        "id": "WGV9UaMT23p4",
        "colab": {
          "base_uri": "https://localhost:8080/"
        },
        "outputId": "b50952c3-8cfb-4ede-c9d2-a9f338708cff"
      },
      "execution_count": 58,
      "outputs": [
        {
          "output_type": "stream",
          "name": "stdout",
          "text": [
            "LSTM \n",
            " LSTM(\n",
            "  (embedding): Embedding(30001, 100)\n",
            "  (lstm): LSTM(100, 256, num_layers=2, batch_first=True)\n",
            "  (dropout): Dropout(p=0.2, inplace=False)\n",
            "  (fc): Linear(in_features=256, out_features=256, bias=True)\n",
            "  (sig): Sigmoid()\n",
            ")\n"
          ]
        }
      ]
    },
    {
      "cell_type": "markdown",
      "source": [
        "The following cell calls the [nn.BCELoss()](https://pytorch.org/docs/stable/generated/torch.nn.BCELoss.html) that creates a criterion that measures the Binary Cross Entropy between the target and the input probabilities. Moreover, it also constructs an optimizer object that will hold the current state and will update the parameters based on the computed gradients using [torch.optim](https://pytorch.org/docs/stable/optim.html). \n",
        "\n"
      ],
      "metadata": {
        "id": "SzFNPvyz28tV"
      }
    },
    {
      "cell_type": "code",
      "source": [
        "# loss and optimization functions\n",
        "learning_rate = 0.0001\n",
        "\n",
        "criterion = nn.BCELoss()\n",
        "optimizer = torch.optim.Adam(sentiment_LSTM.parameters(), lr=learning_rate)"
      ],
      "metadata": {
        "id": "XQw-TDro3mqg"
      },
      "execution_count": 59,
      "outputs": []
    },
    {
      "cell_type": "code",
      "source": [
        "# training params\n",
        "\n",
        "epochs = 4 # 3-4 is approx where I noticed the validation loss stop decreasing\n",
        "\n",
        "counter = 0\n",
        "print_every = 100\n",
        "clip = 5 # gradient clipping"
      ],
      "metadata": {
        "id": "SvSYXwJiahXS"
      },
      "execution_count": 60,
      "outputs": []
    },
    {
      "cell_type": "code",
      "source": [
        "#use min_loss to track the best model throughout the training loop\n",
        "min_val_loss = math.inf"
      ],
      "metadata": {
        "id": "9CWRgnPY4HF7"
      },
      "execution_count": 61,
      "outputs": []
    },
    {
      "cell_type": "code",
      "source": [
        "#lists used for plotting losses\n",
        "step_list = list()\n",
        "train_loss_list = list()\n",
        "val_loss_list = list()"
      ],
      "metadata": {
        "id": "0ur9dPC_ayDx"
      },
      "execution_count": 62,
      "outputs": []
    },
    {
      "cell_type": "markdown",
      "source": [
        "The next cell defines the formula to calculate the accuracy of the model. "
      ],
      "metadata": {
        "id": "WyBk1mbl4T4T"
      }
    },
    {
      "cell_type": "code",
      "source": [
        "def calculate_acc(output, target):\n",
        "    ''' Calculates binary accuracy based\n",
        "        on given predictions and target labels.\n",
        "\n",
        "    Arguments:\n",
        "        output (torch.tensor): predictions\n",
        "        target (torch.tensor): target labels\n",
        "    Returns:\n",
        "        acc (float): binary accuracy\n",
        "    '''\n",
        "    output = torch.round(output)\n",
        "    correct = torch.sum(output==target).float()\n",
        "    acc = (correct/len(target)).item()\n",
        "    return acc"
      ],
      "metadata": {
        "id": "PuvYmf69Qdt3"
      },
      "execution_count": 63,
      "outputs": []
    },
    {
      "cell_type": "markdown",
      "source": [
        "## **4. Train Model**"
      ],
      "metadata": {
        "id": "ch0rGj9-5LV6"
      }
    },
    {
      "cell_type": "markdown",
      "source": [
        "In this step, we will run our model on our tensor datasets for 4 epochs and monitor the training loss, validation loss, and accuracy of the model in each step. "
      ],
      "metadata": {
        "id": "weeh8pty5W9R"
      }
    },
    {
      "cell_type": "code",
      "source": [
        "# move model to GPU, if available\n",
        "if(train_on_gpu):\n",
        "   sentiment_LSTM.cuda()"
      ],
      "metadata": {
        "id": "s1dRPpzr4N-9"
      },
      "execution_count": 64,
      "outputs": []
    },
    {
      "cell_type": "code",
      "source": [
        "sentiment_LSTM.train()\n",
        "\n",
        "# train for some number of epochs\n",
        "for e in range(epochs):\n",
        "\n",
        "    print(\"\")\n",
        "    print('======== Epoch {:} / {:} ========'.format(e + 1, epochs))\n",
        "    print('Training...')\n",
        "\n",
        "    # initialize hidden state\n",
        "    h = sentiment_LSTM.init_hidden(batch_size)\n",
        "\n",
        "    # batch loop\n",
        "    for inputs, labels in train_loader:\n",
        "        counter += 1\n",
        "\n",
        "        if(train_on_gpu):\n",
        "            inputs, labels = inputs.cuda(), labels.cuda()\n",
        "\n",
        "        # Creating new variables for the hidden state, otherwise\n",
        "        # we'd backprop through the entire training history\n",
        "        h = tuple([each.data for each in h])\n",
        "\n",
        "        # zero accumulated gradients\n",
        "        sentiment_LSTM.zero_grad()\n",
        "\n",
        "        # get the output from the model\n",
        "        output, _ = sentiment_LSTM(inputs, h)\n",
        "\n",
        "        # calculate the loss and perform backprop\n",
        "        loss = criterion(output.squeeze(), labels.float())\n",
        "        loss.backward()\n",
        "\n",
        "        # `clip_grad_norm` helps prevent the exploding gradient problem in RNNs / LSTMs.\n",
        "        nn.utils.clip_grad_norm_(sentiment_LSTM.parameters(), clip)\n",
        "        optimizer.step()\n",
        "\n",
        "        # loss stats\n",
        "        if counter % print_every == 0:\n",
        "            # Get validation loss\n",
        "            val_h = sentiment_LSTM.init_hidden(batch_size)\n",
        "            val_losses = []\n",
        "            sentiment_LSTM.eval()\n",
        "            accuracy = 0\n",
        "            count = 0\n",
        "            for inputs, labels in valid_loader:\n",
        "                count += 1\n",
        "                # Creating new variables for the hidden state, otherwise\n",
        "                # we'd backprop through the entire training history\n",
        "                val_h = tuple([each.data for each in val_h])\n",
        "\n",
        "                if(train_on_gpu):\n",
        "                    inputs, labels = inputs.cuda(), labels.cuda()\n",
        "\n",
        "                output, val_h = sentiment_LSTM(inputs, val_h)\n",
        "                val_loss = criterion(output.squeeze(), labels.float())\n",
        "\n",
        "                val_losses.append(val_loss.item())\n",
        "                accuracy += calculate_acc(output, labels)\n",
        "\n",
        "            sentiment_LSTM.train()\n",
        "            print(\"Epoch: {}/{}...\".format(e+1, epochs),\n",
        "                  \"Step: {}...\".format(counter),\n",
        "                  \"Loss: {:.6f}...\".format(loss.item()),\n",
        "                  \"Val Loss: {:.6f}\".format(np.mean(val_losses)), \n",
        "                  \"Accuracy: {:.6f}\".format(accuracy/count))\n",
        "            step_list.append(counter)\n",
        "            train_loss_list.append(loss.item())\n",
        "            val_loss_list.append(np.mean(val_losses))"
      ],
      "metadata": {
        "id": "YqQEGQbY47Aj",
        "colab": {
          "base_uri": "https://localhost:8080/"
        },
        "outputId": "93c02bea-0b7e-4b6e-8d40-efb1f23b38b3"
      },
      "execution_count": 65,
      "outputs": [
        {
          "output_type": "stream",
          "name": "stdout",
          "text": [
            "\n",
            "======== Epoch 1 / 4 ========\n",
            "Training...\n",
            "Epoch: 1/4... Step: 100... Loss: 0.690946... Val Loss: 0.690266 Accuracy: 0.566000\n",
            "Epoch: 1/4... Step: 200... Loss: 0.716441... Val Loss: 0.674645 Accuracy: 0.564000\n",
            "Epoch: 1/4... Step: 300... Loss: 0.691403... Val Loss: 0.651562 Accuracy: 0.604400\n",
            "Epoch: 1/4... Step: 400... Loss: 0.568941... Val Loss: 0.618023 Accuracy: 0.660400\n",
            "Epoch: 1/4... Step: 500... Loss: 0.591271... Val Loss: 0.575095 Accuracy: 0.697200\n",
            "Epoch: 1/4... Step: 600... Loss: 0.889667... Val Loss: 0.712868 Accuracy: 0.632800\n",
            "Epoch: 1/4... Step: 700... Loss: 0.618028... Val Loss: 0.587079 Accuracy: 0.700400\n",
            "Epoch: 1/4... Step: 800... Loss: 0.530808... Val Loss: 0.548942 Accuracy: 0.717200\n",
            "Epoch: 1/4... Step: 900... Loss: 0.606999... Val Loss: 0.601610 Accuracy: 0.703200\n",
            "\n",
            "======== Epoch 2 / 4 ========\n",
            "Training...\n",
            "Epoch: 2/4... Step: 1000... Loss: 0.470498... Val Loss: 0.516171 Accuracy: 0.744400\n",
            "Epoch: 2/4... Step: 1100... Loss: 0.536692... Val Loss: 0.570987 Accuracy: 0.728000\n",
            "Epoch: 2/4... Step: 1200... Loss: 0.418017... Val Loss: 0.492663 Accuracy: 0.766800\n",
            "Epoch: 2/4... Step: 1300... Loss: 0.323955... Val Loss: 0.492504 Accuracy: 0.764800\n",
            "Epoch: 2/4... Step: 1400... Loss: 0.334980... Val Loss: 0.501298 Accuracy: 0.764800\n",
            "Epoch: 2/4... Step: 1500... Loss: 0.591198... Val Loss: 0.506103 Accuracy: 0.768800\n",
            "Epoch: 2/4... Step: 1600... Loss: 0.288978... Val Loss: 0.470598 Accuracy: 0.772400\n",
            "Epoch: 2/4... Step: 1700... Loss: 0.443401... Val Loss: 0.448468 Accuracy: 0.787600\n",
            "Epoch: 2/4... Step: 1800... Loss: 0.387924... Val Loss: 0.464686 Accuracy: 0.780000\n",
            "\n",
            "======== Epoch 3 / 4 ========\n",
            "Training...\n",
            "Epoch: 3/4... Step: 1900... Loss: 0.278598... Val Loss: 0.446454 Accuracy: 0.795600\n",
            "Epoch: 3/4... Step: 2000... Loss: 0.379146... Val Loss: 0.428832 Accuracy: 0.797600\n",
            "Epoch: 3/4... Step: 2100... Loss: 0.267455... Val Loss: 0.433221 Accuracy: 0.798400\n",
            "Epoch: 3/4... Step: 2200... Loss: 0.341785... Val Loss: 0.469551 Accuracy: 0.779200\n",
            "Epoch: 3/4... Step: 2300... Loss: 0.414073... Val Loss: 0.420143 Accuracy: 0.804800\n",
            "Epoch: 3/4... Step: 2400... Loss: 0.450793... Val Loss: 0.439000 Accuracy: 0.809600\n",
            "Epoch: 3/4... Step: 2500... Loss: 0.402456... Val Loss: 0.443309 Accuracy: 0.807200\n",
            "Epoch: 3/4... Step: 2600... Loss: 0.315158... Val Loss: 0.431221 Accuracy: 0.805600\n",
            "Epoch: 3/4... Step: 2700... Loss: 0.478680... Val Loss: 0.415396 Accuracy: 0.815600\n",
            "\n",
            "======== Epoch 4 / 4 ========\n",
            "Training...\n",
            "Epoch: 4/4... Step: 2800... Loss: 0.356912... Val Loss: 0.429982 Accuracy: 0.810400\n",
            "Epoch: 4/4... Step: 2900... Loss: 0.441631... Val Loss: 0.406340 Accuracy: 0.818000\n",
            "Epoch: 4/4... Step: 3000... Loss: 0.395719... Val Loss: 0.406147 Accuracy: 0.818400\n",
            "Epoch: 4/4... Step: 3100... Loss: 0.308652... Val Loss: 0.431883 Accuracy: 0.810800\n",
            "Epoch: 4/4... Step: 3200... Loss: 0.415361... Val Loss: 0.434223 Accuracy: 0.814000\n",
            "Epoch: 4/4... Step: 3300... Loss: 0.304001... Val Loss: 0.402254 Accuracy: 0.832400\n",
            "Epoch: 4/4... Step: 3400... Loss: 0.417048... Val Loss: 0.488000 Accuracy: 0.788400\n",
            "Epoch: 4/4... Step: 3500... Loss: 0.336458... Val Loss: 0.411014 Accuracy: 0.817600\n",
            "Epoch: 4/4... Step: 3600... Loss: 0.326446... Val Loss: 0.413547 Accuracy: 0.818800\n"
          ]
        }
      ]
    },
    {
      "cell_type": "code",
      "source": [
        "#Plotting loss\n",
        "pyplot.plot(step_list, train_loss_list, color='blue', label='training loss')\n",
        "pyplot.plot(step_list, val_loss_list, color='red', label='validating loss')\n",
        "pyplot.legend()\n",
        "pyplot.xlabel('Step')\n",
        "pyplot.ylabel('Loss')\n",
        "pyplot.show()"
      ],
      "metadata": {
        "id": "fCWYs3VNOfuh",
        "outputId": "875a18f1-6839-4278-87eb-89d8aafffe04",
        "colab": {
          "base_uri": "https://localhost:8080/",
          "height": 279
        }
      },
      "execution_count": 66,
      "outputs": [
        {
          "output_type": "display_data",
          "data": {
            "image/png": "[encoded data removed]",
            "text/plain": [
              "<Figure size 432x288 with 1 Axes>"
            ]
          },
          "metadata": {
            "needs_background": "light"
          }
        }
      ]
    },
    {
      "cell_type": "code",
      "source": [
        ""
      ],
      "metadata": {
        "id": "0h6LajQYTpkl"
      },
      "execution_count": null,
      "outputs": []
    }
  ],
  "metadata": {
    "colab": {
      "collapsed_sections": [],
      "name": "LSTM_Movie_Sentiments.ipynb",
      "provenance": []
    },
    "kernelspec": {
      "display_name": "Python 3",
      "name": "python3"
    },
    "language_info": {
      "name": "python"
    },
    "accelerator": "GPU"
  },
  "nbformat": 4,
  "nbformat_minor": 0
}